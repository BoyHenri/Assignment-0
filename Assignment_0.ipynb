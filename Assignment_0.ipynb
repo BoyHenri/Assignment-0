{
  "nbformat": 4,
  "nbformat_minor": 0,
  "metadata": {
    "colab": {
      "provenance": []
    },
    "kernelspec": {
      "name": "python3",
      "display_name": "Python 3"
    },
    "language_info": {
      "name": "python"
    }
  },
  "cells": [
    {
      "cell_type": "markdown",
      "source": [
        "# **ข้อ 1**\n",
        "Consider a sequence of n Bernoulli trials with success probabilty p per trial. A string of consecutive successes is known as a success run. Write a function that returns the counts for runs of length k for each k observed in a dictionary."
      ],
      "metadata": {
        "id": "I16d29r-Y9Qp"
      }
    },
    {
      "cell_type": "code",
      "execution_count": 5,
      "metadata": {
        "colab": {
          "base_uri": "https://localhost:8080/"
        },
        "id": "9Bjk-nF0XGgQ",
        "outputId": "5a14ffe6-a2ba-4ed9-e7a2-9468306c5962"
      },
      "outputs": [
        {
          "output_type": "stream",
          "name": "stdout",
          "text": [
            "Counter({1: 2, 2: 1})\n"
          ]
        },
        {
          "output_type": "execute_result",
          "data": {
            "text/plain": [
              "Counter({1: 124946,\n",
              "         6: 3970,\n",
              "         5: 7881,\n",
              "         4: 15649,\n",
              "         2: 62340,\n",
              "         3: 31394,\n",
              "         7: 1882,\n",
              "         9: 512,\n",
              "         8: 963,\n",
              "         11: 128,\n",
              "         15: 7,\n",
              "         10: 236,\n",
              "         14: 16,\n",
              "         12: 50,\n",
              "         13: 27,\n",
              "         17: 7,\n",
              "         16: 3,\n",
              "         19: 1,\n",
              "         20: 1,\n",
              "         18: 2})"
            ]
          },
          "metadata": {},
          "execution_count": 5
        }
      ],
      "source": [
        "from collections import Counter\n",
        "import numpy as np\n",
        "\n",
        "def count_runs(lists):\n",
        "    return Counter(map(len, filter(None, ''.join(map(str, lists)).split('0'))))\n",
        "\n",
        "# Example usage\n",
        "lists = [0, 1, 0, 1, 1, 0, 0, 0, 0, 1]\n",
        "print(count_runs(lists))\n",
        "\n",
        "# For a random large binary sequence\n",
        "\n",
        "random_lists = np.random.randint(0, 2, 1000000)\n",
        "count_runs(random_lists)\n"
      ]
    },
    {
      "cell_type": "markdown",
      "source": [
        "# **ข้อ 2**\n",
        "Continuing from Part 1, what is the probability of observing at least one run of length 5 or more when n=100 and p=0.5?. Estimate this from 100,000 simulated experiments. Is this more, less or equally likely than finding runs of length 7 or more when p=0.7 ?"
      ],
      "metadata": {
        "id": "BPSSMvOEYBD_"
      }
    },
    {
      "cell_type": "code",
      "source": [
        "from collections import Counter\n",
        "import numpy as np\n",
        "\n",
        "def count_runs(sequence):\n",
        "    return Counter(map(len, filter(None, ''.join(map(str, sequence)).split('0'))))\n",
        "\n",
        "def run_prob(expts, n, k, p):\n",
        "    return sum(any(r >= k for r in count_runs(np.random.choice([0, 1], n, p=[1-p, p]))) for _ in range(expts)) / expts\n",
        "\n",
        "# Example usage\n",
        "print(run_prob(100000, 100, 5, 0.5))  # Expected ~0.80704\n",
        "print(run_prob(100000, 100, 7, 0.7))  # Expected ~0.94881"
      ],
      "metadata": {
        "colab": {
          "base_uri": "https://localhost:8080/"
        },
        "id": "P29giRgIYuqn",
        "outputId": "f2fa0659-a95a-4a80-8097-ae87151a7bc5"
      },
      "execution_count": 6,
      "outputs": [
        {
          "output_type": "stream",
          "name": "stdout",
          "text": [
            "0.81115\n",
            "0.9502\n"
          ]
        }
      ]
    }
  ]
}